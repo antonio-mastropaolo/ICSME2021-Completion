{
 "cells": [
  {
   "cell_type": "code",
   "execution_count": null,
   "metadata": {
    "collapsed": true
   },
   "outputs": [],
   "source": [
    "import os\n",
    "import sys\n",
    "sys.path.insert(0, os.path.abspath(\"../core\"))\n",
    "from ipynb.fs.full.preprocessing import *\n",
    "\n",
    "TEST_CASES_DIR = '../../data/test/test_inputs/'\n",
    "OUTPUT_FOLDER = '../../data/test/test_outputs/'\n",
    "PREFIX = 'preprocessing'\n"
   ]
  },
  {
   "cell_type": "code",
   "execution_count": null,
   "outputs": [],
   "source": [
    "#Load test cases\n",
    "list_tcs = []\n",
    "for root, dirs, files in os.walk(TEST_CASES_DIR):\n",
    "    files.sort()\n",
    "    for name in files:\n",
    "        with open(os.path.join(root, name),'r') as f_test:\n",
    "              list_tcs.append({'index':name, 'body':f_test.readlines()})\n"
   ],
   "metadata": {
    "collapsed": false,
    "pycharm": {
     "name": "#%%\n"
    }
   }
  },
  {
   "cell_type": "code",
   "execution_count": null,
   "outputs": [],
   "source": [
    "def formatString(str):\n",
    "    res_str = ''\n",
    "    for line in str.splitlines():\n",
    "        res_str += re.sub('\\s+',' ',line) + '\\n'\n",
    "\n",
    "    return  res_str"
   ],
   "metadata": {
    "collapsed": false,
    "pycharm": {
     "name": "#%%\n"
    }
   }
  },
  {
   "cell_type": "code",
   "execution_count": null,
   "outputs": [],
   "source": [
    "def runTests(tc_list,save_output=True):\n",
    "\n",
    "    for (idx,item) in enumerate(tc_list):\n",
    "        test = ''.join(item['body'])\n",
    "        index = item['index']\n",
    "\n",
    "        print('********************* {} *********************'.format(index))\n",
    "        result=preprocessInsideComment(test)\n",
    "        formatted_result = formatString(result)\n",
    "        print(formatted_result)\n",
    "        print('***************************************************\\n\\n')\n",
    "\n",
    "        if save_output:\n",
    "            with open('{}_output_{}.txt'.format(OUTPUT_FOLDER+index, PREFIX),'w') as f_write:\n",
    "                f_write.write(formatted_result)\n",
    "\n",
    "\n",
    "runTests(list_tcs, save_output=True)"
   ],
   "metadata": {
    "collapsed": false,
    "pycharm": {
     "name": "#%%\n"
    }
   }
  },
  {
   "cell_type": "code",
   "execution_count": null,
   "outputs": [],
   "source": [],
   "metadata": {
    "collapsed": false,
    "pycharm": {
     "name": "#%%\n"
    }
   }
  }
 ],
 "metadata": {
  "kernelspec": {
   "display_name": "Python 3",
   "language": "python",
   "name": "python3"
  },
  "language_info": {
   "codemirror_mode": {
    "name": "ipython",
    "version": 2
   },
   "file_extension": ".py",
   "mimetype": "text/x-python",
   "name": "python",
   "nbconvert_exporter": "python",
   "pygments_lexer": "ipython2",
   "version": "2.7.6"
  }
 },
 "nbformat": 4,
 "nbformat_minor": 0
}