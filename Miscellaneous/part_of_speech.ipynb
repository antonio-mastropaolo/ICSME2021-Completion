{
 "cells": [
  {
   "cell_type": "code",
   "execution_count": null,
   "metadata": {},
   "outputs": [],
   "source": [
    "import os, nltk\n",
    "from nltk import word_tokenize\n",
    "possible_tag = ['ADJ', 'ADV', 'CNJ', 'DET', 'NOUN', 'PRON', 'VERB', 'OTHER']"
   ]
  },
  {
   "cell_type": "code",
   "execution_count": null,
   "metadata": {},
   "outputs": [],
   "source": [
    "with open('results_5-GRAM/predictions_javadoc.txt') as fread:\n",
    "    predictions_list = [item.strip().strip('\\n') for item in fread.readlines()]\n",
    "\n",
    "with open('results_5-GRAM/target_javadoc.txt') as fread:\n",
    "    targets_list = [item.strip().strip('\\n') for item in fread.readlines()]"
   ]
  },
  {
   "cell_type": "code",
   "execution_count": null,
   "metadata": {},
   "outputs": [],
   "source": [
    "target_dictionary_counter = {}\n",
    "pred_dictionary_counter = {}\n",
    "\n",
    "for tag in possible_tag:\n",
    "    target_dictionary_counter[tag] = 0\n",
    "    pred_dictionary_counter[tag] = 0\n",
    "\n",
    "\n",
    "\n",
    "for (pred,target) in zip(predictions_list,targets_list):\n",
    "    \n",
    "    pred = pred.lower()\n",
    "    target = target.lower()\n",
    "    text_pred = word_tokenize(pred)\n",
    "    tagged_pred = nltk.pos_tag(text_pred, tagset='universal')\n",
    "    \n",
    "    #print('tagged pred: {}'.format(tagged_pred))\n",
    "    \n",
    "    text_target = word_tokenize(target)\n",
    "    tagged_target = nltk.pos_tag(text_target, tagset='universal')\n",
    "    \n",
    "    for (word,tag) in tagged_target:\n",
    "        \n",
    "        if tag in possible_tag:\n",
    "            target_dictionary_counter[tag] += 1\n",
    "        else:\n",
    "            target_dictionary_counter['OTHER'] += 1\n",
    "            \n",
    "    \n",
    "    for ( (word,tag), (target_word,target_tag)) in zip(tagged_pred, tagged_target):\n",
    "        \n",
    "        if word == target_word:\n",
    "            \n",
    "            if tag in possible_tag:\n",
    "                pred_dictionary_counter[tag] += 1\n",
    "            else:\n",
    "                pred_dictionary_counter['OTHER'] += 1\n",
    "        \n",
    "        else:\n",
    "            continue\n",
    "    \n",
    "    \n",
    "    "
   ]
  },
  {
   "cell_type": "code",
   "execution_count": null,
   "metadata": {},
   "outputs": [],
   "source": [
    "for tag in possible_tag:\n",
    "    \n",
    "    print('TAG: {}'.format(tag))\n",
    "    try:\n",
    "        perc = (pred_dictionary_counter[tag]/target_dictionary_counter[tag]) * 100\n",
    "    except ZeroDivisionError:\n",
    "        perc = 'NaN'\n",
    "        \n",
    "    print('{}% {}/{}\\n'.format(perc,pred_dictionary_counter[tag],target_dictionary_counter[tag]))"
   ]
  },
  {
   "cell_type": "code",
   "execution_count": null,
   "metadata": {},
   "outputs": [],
   "source": [
    "#BOX-PLOT ANALYSIS DOWN HERE!\n",
    "\n",
    "# import pandas as pd\n",
    "# import seaborn as sns\n",
    "# import numpy as np\n",
    "# import matplotlib.pyplot as plt\n",
    "# df = pd.DataFrame(zip(javadoc,inside),columns=['javadoc_len','inside_len'])\n",
    "\n",
    "# plt.figure(figsize=(16, 6))\n",
    "# plt.xlim(0,150)\n",
    "# p = sns.boxplot(data=df, orient=\"h\", palette=\"Set2\", whis=[10, 90])\n",
    "# plt.xticks(np.arange(0, 150, 5))\n",
    "# plt.grid(True)\n",
    "# plt.savefig('boxplot.png',transparent=False)"
   ]
  }
 ],
 "metadata": {
  "kernelspec": {
   "display_name": "Python 3",
   "language": "python",
   "name": "python3"
  },
  "language_info": {
   "codemirror_mode": {
    "name": "ipython",
    "version": 3
   },
   "file_extension": ".py",
   "mimetype": "text/x-python",
   "name": "python",
   "nbconvert_exporter": "python",
   "pygments_lexer": "ipython3",
   "version": "3.8.3"
  }
 },
 "nbformat": 4,
 "nbformat_minor": 4
}
