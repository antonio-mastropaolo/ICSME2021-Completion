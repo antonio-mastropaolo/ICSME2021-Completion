{
 "cells": [
  {
   "cell_type": "code",
   "execution_count": null,
   "metadata": {
    "collapsed": true
   },
   "outputs": [],
   "source": [
    "import os\n",
    "import sys\n",
    "sys.path.insert(0, os.path.abspath(\"../core\"))\n",
    "from ipynb.fs.full.preprocessing import *\n",
    "\n",
    "TEST_CASES_DIR = '../../data/test/test_inputs/'\n",
    "OUTPUT_FOLDER = '../../data/test/test_outputs/'\n",
    "PREFIX = 'extraction'\n"
   ]
  },
  {
   "cell_type": "code",
   "execution_count": null,
   "outputs": [],
   "source": [
    "#Load test cases\n",
    "\n",
    "list_tcs = []\n",
    "for root, dirs, files in os.walk(TEST_CASES_DIR):\n",
    "    files.sort()\n",
    "    for name in files:\n",
    "        with open(os.path.join(root, name),'r') as f_test:\n",
    "              list_tcs.append({'index':name, 'body':f_test.readlines()})\n"
   ],
   "metadata": {
    "collapsed": false,
    "pycharm": {
     "name": "#%%\n"
    }
   }
  },
  {
   "cell_type": "code",
   "execution_count": null,
   "outputs": [],
   "source": [
    "def formatString(str):\n",
    "    res_str = ''\n",
    "    for line in str.splitlines():\n",
    "        res_str += re.sub('\\s+',' ',line) + '\\n'\n",
    "\n",
    "    return  res_str"
   ],
   "metadata": {
    "collapsed": false,
    "pycharm": {
     "name": "#%%\n"
    }
   }
  },
  {
   "cell_type": "code",
   "execution_count": null,
   "outputs": [],
   "source": [
    "def runTests(tc_list, save_output=True):\n",
    "\n",
    "    for (idx,item) in enumerate(tc_list):\n",
    "\n",
    "        single = []\n",
    "        multiple = []\n",
    "\n",
    "        index = item['index']\n",
    "\n",
    "        test = ''.join(item['body'])\n",
    "        item = preprocessInsideComment(test)\n",
    "\n",
    "        samples_only_target_comments=extractSamples(item, keep_comment=False)\n",
    "\n",
    "        print('[+] Only target comment')\n",
    "        for sample in samples_only_target_comments:\n",
    "            print('***********************')\n",
    "            single.append(sample)\n",
    "            print(formatString(sample))\n",
    "            print('***********************\\n\\n')\n",
    "\n",
    "        # sampels_multiple_comments=extractSamples(item, keep_comment=True)\n",
    "        # print('[+] Multiple comments(i.e multiple comments are retained beside the target one)')\n",
    "        # for sample in sampels_multiple_comments:\n",
    "        #     print('***********************')\n",
    "        #     multiple.append(sample)\n",
    "        #     print(sample)\n",
    "        #     print('***********************\\n\\n')\n",
    "\n",
    "        if save_output:\n",
    "\n",
    "            with open('{}_output_{}.txt'.format(OUTPUT_FOLDER+index, PREFIX),'w') as f_write:\n",
    "                for output in single:\n",
    "                    f_write.write('************* {} *************\\n'.format(index))\n",
    "                    f_write.write(formatString(output)+'\\n')\n",
    "                    f_write.write('**************************************\\n\\n')\n",
    "\n",
    "\n",
    "runTests(list_tcs, save_output=True)"
   ],
   "metadata": {
    "collapsed": false,
    "pycharm": {
     "name": "#%%\n"
    }
   }
  },
  {
   "cell_type": "code",
   "execution_count": null,
   "outputs": [],
   "source": [],
   "metadata": {
    "collapsed": false,
    "pycharm": {
     "name": "#%%\n"
    }
   }
  }
 ],
 "metadata": {
  "kernelspec": {
   "display_name": "Python 3",
   "language": "python",
   "name": "python3"
  },
  "language_info": {
   "codemirror_mode": {
    "name": "ipython",
    "version": 2
   },
   "file_extension": ".py",
   "mimetype": "text/x-python",
   "name": "python",
   "nbconvert_exporter": "python",
   "pygments_lexer": "ipython2",
   "version": "2.7.6"
  }
 },
 "nbformat": 4,
 "nbformat_minor": 0
}